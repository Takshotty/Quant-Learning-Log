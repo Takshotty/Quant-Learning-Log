import random

def simulate_monty_hall(num_trials=10000, switch=True):
    wins = 0
    
    for _ in range(num_trials):
        doors = [0, 0, 1]  # 0 = goat, 1 = car
        random.shuffle(doors)

        # Contestant picks a door
        choice = random.randint(0, 2)

        # Host opens a door that has a goat and wasn't picked
        possible_doors_to_open = [i for i in range(3) if i != choice and doors[i] == 0]
        door_opened_by_host = random.choice(possible_doors_to_open)

        if switch:
            # Contestant switches to the other unopened door
            remaining_doors = [i for i in range(3) if i != choice and i != door_opened_by_host]
            choice = remaining_doors[0]

        if doors[choice] == 1:
            wins += 1

    win_rate = wins / num_trials
    return win_rate

# Run simulations
stay_win_rate = simulate_monty_hall(switch=False)
switch_win_rate = simulate_monty_hall(switch=True)

print(f"Win rate if you stay:   {stay_win_rate:.4f}")
print(f"Win rate if you switch: {switch_win_rate:.4f}")
